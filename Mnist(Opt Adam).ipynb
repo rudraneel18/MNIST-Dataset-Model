{
  "nbformat": 4,
  "nbformat_minor": 0,
  "metadata": {
    "colab": {
      "provenance": [],
      "authorship_tag": "ABX9TyPp39tgKN3Dyqulj5TxqyRl",
      "include_colab_link": true
    },
    "kernelspec": {
      "name": "python3",
      "display_name": "Python 3"
    },
    "language_info": {
      "name": "python"
    }
  },
  "cells": [
    {
      "cell_type": "markdown",
      "metadata": {
        "id": "view-in-github",
        "colab_type": "text"
      },
      "source": [
        "<a href=\"https://colab.research.google.com/github/rudraneel18/MNIST-Dataset-Model/blob/main/Mnist(Opt%20Adam).ipynb\" target=\"_parent\"><img src=\"https://colab.research.google.com/assets/colab-badge.svg\" alt=\"Open In Colab\"/></a>"
      ]
    },
    {
      "cell_type": "code",
      "source": [
        "! pip install -q kaggle\n",
        "from google.colab import files\n",
        "files.upload()\n",
        "! mkdir ~/.kaggle\n",
        "\n",
        "! cp kaggle.json ~/.kaggle/\n",
        "! chmod 600 ~/.kaggle/kaggle.json"
      ],
      "metadata": {
        "colab": {
          "base_uri": "https://localhost:8080/",
          "height": 90
        },
        "id": "S2C-DI2jH25c",
        "outputId": "4eca828a-3bc0-4dba-92c8-67ec00b1d8c4"
      },
      "execution_count": 1,
      "outputs": [
        {
          "output_type": "display_data",
          "data": {
            "text/plain": [
              "<IPython.core.display.HTML object>"
            ],
            "text/html": [
              "\n",
              "     <input type=\"file\" id=\"files-be63fedc-a727-4746-a406-9f5db2875c8b\" name=\"files[]\" multiple disabled\n",
              "        style=\"border:none\" />\n",
              "     <output id=\"result-be63fedc-a727-4746-a406-9f5db2875c8b\">\n",
              "      Upload widget is only available when the cell has been executed in the\n",
              "      current browser session. Please rerun this cell to enable.\n",
              "      </output>\n",
              "      <script>// Copyright 2017 Google LLC\n",
              "//\n",
              "// Licensed under the Apache License, Version 2.0 (the \"License\");\n",
              "// you may not use this file except in compliance with the License.\n",
              "// You may obtain a copy of the License at\n",
              "//\n",
              "//      http://www.apache.org/licenses/LICENSE-2.0\n",
              "//\n",
              "// Unless required by applicable law or agreed to in writing, software\n",
              "// distributed under the License is distributed on an \"AS IS\" BASIS,\n",
              "// WITHOUT WARRANTIES OR CONDITIONS OF ANY KIND, either express or implied.\n",
              "// See the License for the specific language governing permissions and\n",
              "// limitations under the License.\n",
              "\n",
              "/**\n",
              " * @fileoverview Helpers for google.colab Python module.\n",
              " */\n",
              "(function(scope) {\n",
              "function span(text, styleAttributes = {}) {\n",
              "  const element = document.createElement('span');\n",
              "  element.textContent = text;\n",
              "  for (const key of Object.keys(styleAttributes)) {\n",
              "    element.style[key] = styleAttributes[key];\n",
              "  }\n",
              "  return element;\n",
              "}\n",
              "\n",
              "// Max number of bytes which will be uploaded at a time.\n",
              "const MAX_PAYLOAD_SIZE = 100 * 1024;\n",
              "\n",
              "function _uploadFiles(inputId, outputId) {\n",
              "  const steps = uploadFilesStep(inputId, outputId);\n",
              "  const outputElement = document.getElementById(outputId);\n",
              "  // Cache steps on the outputElement to make it available for the next call\n",
              "  // to uploadFilesContinue from Python.\n",
              "  outputElement.steps = steps;\n",
              "\n",
              "  return _uploadFilesContinue(outputId);\n",
              "}\n",
              "\n",
              "// This is roughly an async generator (not supported in the browser yet),\n",
              "// where there are multiple asynchronous steps and the Python side is going\n",
              "// to poll for completion of each step.\n",
              "// This uses a Promise to block the python side on completion of each step,\n",
              "// then passes the result of the previous step as the input to the next step.\n",
              "function _uploadFilesContinue(outputId) {\n",
              "  const outputElement = document.getElementById(outputId);\n",
              "  const steps = outputElement.steps;\n",
              "\n",
              "  const next = steps.next(outputElement.lastPromiseValue);\n",
              "  return Promise.resolve(next.value.promise).then((value) => {\n",
              "    // Cache the last promise value to make it available to the next\n",
              "    // step of the generator.\n",
              "    outputElement.lastPromiseValue = value;\n",
              "    return next.value.response;\n",
              "  });\n",
              "}\n",
              "\n",
              "/**\n",
              " * Generator function which is called between each async step of the upload\n",
              " * process.\n",
              " * @param {string} inputId Element ID of the input file picker element.\n",
              " * @param {string} outputId Element ID of the output display.\n",
              " * @return {!Iterable<!Object>} Iterable of next steps.\n",
              " */\n",
              "function* uploadFilesStep(inputId, outputId) {\n",
              "  const inputElement = document.getElementById(inputId);\n",
              "  inputElement.disabled = false;\n",
              "\n",
              "  const outputElement = document.getElementById(outputId);\n",
              "  outputElement.innerHTML = '';\n",
              "\n",
              "  const pickedPromise = new Promise((resolve) => {\n",
              "    inputElement.addEventListener('change', (e) => {\n",
              "      resolve(e.target.files);\n",
              "    });\n",
              "  });\n",
              "\n",
              "  const cancel = document.createElement('button');\n",
              "  inputElement.parentElement.appendChild(cancel);\n",
              "  cancel.textContent = 'Cancel upload';\n",
              "  const cancelPromise = new Promise((resolve) => {\n",
              "    cancel.onclick = () => {\n",
              "      resolve(null);\n",
              "    };\n",
              "  });\n",
              "\n",
              "  // Wait for the user to pick the files.\n",
              "  const files = yield {\n",
              "    promise: Promise.race([pickedPromise, cancelPromise]),\n",
              "    response: {\n",
              "      action: 'starting',\n",
              "    }\n",
              "  };\n",
              "\n",
              "  cancel.remove();\n",
              "\n",
              "  // Disable the input element since further picks are not allowed.\n",
              "  inputElement.disabled = true;\n",
              "\n",
              "  if (!files) {\n",
              "    return {\n",
              "      response: {\n",
              "        action: 'complete',\n",
              "      }\n",
              "    };\n",
              "  }\n",
              "\n",
              "  for (const file of files) {\n",
              "    const li = document.createElement('li');\n",
              "    li.append(span(file.name, {fontWeight: 'bold'}));\n",
              "    li.append(span(\n",
              "        `(${file.type || 'n/a'}) - ${file.size} bytes, ` +\n",
              "        `last modified: ${\n",
              "            file.lastModifiedDate ? file.lastModifiedDate.toLocaleDateString() :\n",
              "                                    'n/a'} - `));\n",
              "    const percent = span('0% done');\n",
              "    li.appendChild(percent);\n",
              "\n",
              "    outputElement.appendChild(li);\n",
              "\n",
              "    const fileDataPromise = new Promise((resolve) => {\n",
              "      const reader = new FileReader();\n",
              "      reader.onload = (e) => {\n",
              "        resolve(e.target.result);\n",
              "      };\n",
              "      reader.readAsArrayBuffer(file);\n",
              "    });\n",
              "    // Wait for the data to be ready.\n",
              "    let fileData = yield {\n",
              "      promise: fileDataPromise,\n",
              "      response: {\n",
              "        action: 'continue',\n",
              "      }\n",
              "    };\n",
              "\n",
              "    // Use a chunked sending to avoid message size limits. See b/62115660.\n",
              "    let position = 0;\n",
              "    do {\n",
              "      const length = Math.min(fileData.byteLength - position, MAX_PAYLOAD_SIZE);\n",
              "      const chunk = new Uint8Array(fileData, position, length);\n",
              "      position += length;\n",
              "\n",
              "      const base64 = btoa(String.fromCharCode.apply(null, chunk));\n",
              "      yield {\n",
              "        response: {\n",
              "          action: 'append',\n",
              "          file: file.name,\n",
              "          data: base64,\n",
              "        },\n",
              "      };\n",
              "\n",
              "      let percentDone = fileData.byteLength === 0 ?\n",
              "          100 :\n",
              "          Math.round((position / fileData.byteLength) * 100);\n",
              "      percent.textContent = `${percentDone}% done`;\n",
              "\n",
              "    } while (position < fileData.byteLength);\n",
              "  }\n",
              "\n",
              "  // All done.\n",
              "  yield {\n",
              "    response: {\n",
              "      action: 'complete',\n",
              "    }\n",
              "  };\n",
              "}\n",
              "\n",
              "scope.google = scope.google || {};\n",
              "scope.google.colab = scope.google.colab || {};\n",
              "scope.google.colab._files = {\n",
              "  _uploadFiles,\n",
              "  _uploadFilesContinue,\n",
              "};\n",
              "})(self);\n",
              "</script> "
            ]
          },
          "metadata": {}
        },
        {
          "output_type": "stream",
          "name": "stdout",
          "text": [
            "Saving kaggle.json to kaggle (2).json\n",
            "mkdir: cannot create directory ‘/root/.kaggle’: File exists\n"
          ]
        }
      ]
    },
    {
      "cell_type": "code",
      "source": [
        "!kaggle competitions download -c digit-recognizer"
      ],
      "metadata": {
        "colab": {
          "base_uri": "https://localhost:8080/"
        },
        "id": "gNf6X5xtSv3b",
        "outputId": "4a47b90b-8c26-427a-b17b-78f9deb16cdd"
      },
      "execution_count": 2,
      "outputs": [
        {
          "output_type": "stream",
          "name": "stdout",
          "text": [
            "digit-recognizer.zip: Skipping, found more recently modified local copy (use --force to force download)\n"
          ]
        }
      ]
    },
    {
      "cell_type": "code",
      "execution_count": 3,
      "metadata": {
        "id": "-yhlbEU5OTUA"
      },
      "outputs": [],
      "source": [
        "import pandas as pd\n",
        "import tensorflow as tf\n",
        "from tensorflow.keras.models import Sequential\n",
        "import tensorflow.keras.layers as layers\n",
        "import numpy as np\n",
        "import keras\n",
        "from sklearn.model_selection import train_test_split\n",
        "from tensorflow.keras.utils import to_categorical\n",
        "import tensorflow_datasets as tfds"
      ]
    },
    {
      "cell_type": "code",
      "source": [
        "data = pd.read_csv('/content/train.csv')\n",
        "\n",
        "x_data = data.drop(labels='label', axis=1)\n",
        "y_data = data['label']\n",
        "\n",
        "x_train, x_test, y_train, y_test = train_test_split(x_data, y_data, test_size=.2)\n",
        "\n",
        "data_for_prediction = pd.read_csv('/content/test.csv')"
      ],
      "metadata": {
        "id": "y6NOG1n-Oyq7"
      },
      "execution_count": 4,
      "outputs": []
    },
    {
      "cell_type": "code",
      "source": [
        "x_train = x_train.to_numpy().reshape((x_train.shape[0], 28, 28, 1))\n",
        "x_train = tf.convert_to_tensor(x_train)\n",
        "\n",
        "y_train = to_categorical(tf.convert_to_tensor(y_train.to_numpy()))\n",
        "\n",
        "x_test = x_test.to_numpy().reshape((x_test.shape[0], 28, 28, 1))\n",
        "x_test = tf.convert_to_tensor(x_test)\n",
        "\n",
        "y_test = to_categorical(tf.convert_to_tensor(y_test.to_numpy()))\n",
        "\n",
        "data_for_prediction = data_for_prediction.to_numpy().reshape((data_for_prediction.shape[0], 28, 28, 1))"
      ],
      "metadata": {
        "id": "RhcB4wtvQkHS"
      },
      "execution_count": 5,
      "outputs": []
    },
    {
      "cell_type": "code",
      "source": [
        "model = Sequential()\n",
        "# Scaling pixel values from 0-255 to 0-1\n",
        "model.add(layers.Rescaling(1./255))\n",
        "# Data augmentation\n",
        "model.add(layers.RandomRotation(factor=.1, fill_mode='constant', fill_value=0.))\n",
        "# 1st Convolution\n",
        "model.add(layers.Conv2D(filters=32, kernel_size=(5,5)))\n",
        "model.add(layers.Activation('relu'))\n",
        "model.add(layers.BatchNormalization())\n",
        "model.add(layers.MaxPool2D(pool_size=(2,2)))\n",
        "# Dropout\n",
        "model.add(layers.Dropout(.2))\n",
        "# 2nd Convolution\n",
        "model.add(layers.Conv2D(filters=32, kernel_size=(3,3)))\n",
        "model.add(layers.Activation('relu'))\n",
        "model.add(layers.BatchNormalization())\n",
        "model.add(layers.MaxPool2D(pool_size=(2,2)))\n",
        "# Dropout\n",
        "model.add(layers.Dropout(.2))\n",
        "# Fully connected with dropouts\n",
        "model.add(layers.Flatten())\n",
        "model.add(layers.Dense(512))\n",
        "model.add(layers.Activation('relu'))\n",
        "model.add(layers.Dropout(.2))\n",
        "model.add(layers.Dense(512))\n",
        "model.add(layers.Activation('relu'))\n",
        "model.add(layers.Dropout(.2))\n",
        "# Softmax\n",
        "model.add(layers.Dense(10))\n",
        "model.add(layers.Activation('softmax'))"
      ],
      "metadata": {
        "id": "Dql-xlb0UEVm"
      },
      "execution_count": 6,
      "outputs": []
    },
    {
      "cell_type": "code",
      "source": [
        "model.build(input_shape=(None,28,28,1))\n",
        "model.summary()"
      ],
      "metadata": {
        "colab": {
          "base_uri": "https://localhost:8080/"
        },
        "id": "uzhNBStyUGHo",
        "outputId": "245657cb-1172-497d-e002-cab8830999f8"
      },
      "execution_count": 7,
      "outputs": [
        {
          "output_type": "stream",
          "name": "stdout",
          "text": [
            "Model: \"sequential\"\n",
            "_________________________________________________________________\n",
            " Layer (type)                Output Shape              Param #   \n",
            "=================================================================\n",
            " rescaling (Rescaling)       (None, 28, 28, 1)         0         \n",
            "                                                                 \n",
            " random_rotation (RandomRota  (None, 28, 28, 1)        0         \n",
            " tion)                                                           \n",
            "                                                                 \n",
            " conv2d (Conv2D)             (None, 24, 24, 32)        832       \n",
            "                                                                 \n",
            " activation (Activation)     (None, 24, 24, 32)        0         \n",
            "                                                                 \n",
            " batch_normalization (BatchN  (None, 24, 24, 32)       128       \n",
            " ormalization)                                                   \n",
            "                                                                 \n",
            " max_pooling2d (MaxPooling2D  (None, 12, 12, 32)       0         \n",
            " )                                                               \n",
            "                                                                 \n",
            " dropout (Dropout)           (None, 12, 12, 32)        0         \n",
            "                                                                 \n",
            " conv2d_1 (Conv2D)           (None, 10, 10, 32)        9248      \n",
            "                                                                 \n",
            " activation_1 (Activation)   (None, 10, 10, 32)        0         \n",
            "                                                                 \n",
            " batch_normalization_1 (Batc  (None, 10, 10, 32)       128       \n",
            " hNormalization)                                                 \n",
            "                                                                 \n",
            " max_pooling2d_1 (MaxPooling  (None, 5, 5, 32)         0         \n",
            " 2D)                                                             \n",
            "                                                                 \n",
            " dropout_1 (Dropout)         (None, 5, 5, 32)          0         \n",
            "                                                                 \n",
            " flatten (Flatten)           (None, 800)               0         \n",
            "                                                                 \n",
            " dense (Dense)               (None, 512)               410112    \n",
            "                                                                 \n",
            " activation_2 (Activation)   (None, 512)               0         \n",
            "                                                                 \n",
            " dropout_2 (Dropout)         (None, 512)               0         \n",
            "                                                                 \n",
            " dense_1 (Dense)             (None, 512)               262656    \n",
            "                                                                 \n",
            " activation_3 (Activation)   (None, 512)               0         \n",
            "                                                                 \n",
            " dropout_3 (Dropout)         (None, 512)               0         \n",
            "                                                                 \n",
            " dense_2 (Dense)             (None, 10)                5130      \n",
            "                                                                 \n",
            " activation_4 (Activation)   (None, 10)                0         \n",
            "                                                                 \n",
            "=================================================================\n",
            "Total params: 688,234\n",
            "Trainable params: 688,106\n",
            "Non-trainable params: 128\n",
            "_________________________________________________________________\n"
          ]
        }
      ]
    },
    {
      "cell_type": "code",
      "source": [
        "optimizer = tf.keras.optimizers.Adam(learning_rate=.001, decay=1e-4)\n",
        "model.compile(optimizer=optimizer, loss='categorical_crossentropy', metrics=['categorical_accuracy'])\n",
        "\n",
        "history = model.fit(x=x_train, y=y_train, epochs=60, batch_size=32, validation_data=(x_test, y_test))"
      ],
      "metadata": {
        "colab": {
          "base_uri": "https://localhost:8080/"
        },
        "id": "JtRK1vF8UH2O",
        "outputId": "a5af03f3-edbe-4abb-9af7-9ed27b0dfa76"
      },
      "execution_count": 8,
      "outputs": [
        {
          "output_type": "stream",
          "name": "stdout",
          "text": [
            "Epoch 1/60\n",
            "1050/1050 [==============================] - 65s 60ms/step - loss: 0.3074 - categorical_accuracy: 0.9029 - val_loss: 0.0797 - val_categorical_accuracy: 0.9726\n",
            "Epoch 2/60\n",
            "1050/1050 [==============================] - 57s 54ms/step - loss: 0.1274 - categorical_accuracy: 0.9615 - val_loss: 0.0902 - val_categorical_accuracy: 0.9743\n",
            "Epoch 3/60\n",
            "1050/1050 [==============================] - 56s 53ms/step - loss: 0.1025 - categorical_accuracy: 0.9699 - val_loss: 0.0773 - val_categorical_accuracy: 0.9757\n",
            "Epoch 4/60\n",
            "1050/1050 [==============================] - 58s 56ms/step - loss: 0.0883 - categorical_accuracy: 0.9737 - val_loss: 0.0508 - val_categorical_accuracy: 0.9851\n",
            "Epoch 5/60\n",
            "1050/1050 [==============================] - 58s 55ms/step - loss: 0.0746 - categorical_accuracy: 0.9770 - val_loss: 0.0606 - val_categorical_accuracy: 0.9826\n",
            "Epoch 6/60\n",
            "1050/1050 [==============================] - 59s 56ms/step - loss: 0.0720 - categorical_accuracy: 0.9787 - val_loss: 0.0474 - val_categorical_accuracy: 0.9869\n",
            "Epoch 7/60\n",
            "1050/1050 [==============================] - 52s 50ms/step - loss: 0.0641 - categorical_accuracy: 0.9813 - val_loss: 0.0463 - val_categorical_accuracy: 0.9876\n",
            "Epoch 8/60\n",
            "1050/1050 [==============================] - 51s 48ms/step - loss: 0.0589 - categorical_accuracy: 0.9817 - val_loss: 0.0474 - val_categorical_accuracy: 0.9887\n",
            "Epoch 9/60\n",
            "1050/1050 [==============================] - 49s 47ms/step - loss: 0.0544 - categorical_accuracy: 0.9840 - val_loss: 0.0465 - val_categorical_accuracy: 0.9879\n",
            "Epoch 10/60\n",
            "1050/1050 [==============================] - 49s 47ms/step - loss: 0.0503 - categorical_accuracy: 0.9846 - val_loss: 0.0418 - val_categorical_accuracy: 0.9894\n",
            "Epoch 11/60\n",
            "1050/1050 [==============================] - 50s 48ms/step - loss: 0.0462 - categorical_accuracy: 0.9860 - val_loss: 0.0467 - val_categorical_accuracy: 0.9885\n",
            "Epoch 12/60\n",
            "1050/1050 [==============================] - 51s 49ms/step - loss: 0.0423 - categorical_accuracy: 0.9872 - val_loss: 0.0465 - val_categorical_accuracy: 0.9886\n",
            "Epoch 13/60\n",
            "1050/1050 [==============================] - 52s 49ms/step - loss: 0.0419 - categorical_accuracy: 0.9870 - val_loss: 0.0457 - val_categorical_accuracy: 0.9893\n",
            "Epoch 14/60\n",
            "1050/1050 [==============================] - 51s 49ms/step - loss: 0.0378 - categorical_accuracy: 0.9885 - val_loss: 0.0481 - val_categorical_accuracy: 0.9887\n",
            "Epoch 15/60\n",
            "1050/1050 [==============================] - 51s 48ms/step - loss: 0.0385 - categorical_accuracy: 0.9885 - val_loss: 0.0366 - val_categorical_accuracy: 0.9902\n",
            "Epoch 16/60\n",
            "1050/1050 [==============================] - 50s 47ms/step - loss: 0.0338 - categorical_accuracy: 0.9888 - val_loss: 0.0444 - val_categorical_accuracy: 0.9899\n",
            "Epoch 17/60\n",
            "1050/1050 [==============================] - 50s 48ms/step - loss: 0.0337 - categorical_accuracy: 0.9895 - val_loss: 0.0476 - val_categorical_accuracy: 0.9906\n",
            "Epoch 18/60\n",
            "1050/1050 [==============================] - 51s 48ms/step - loss: 0.0320 - categorical_accuracy: 0.9902 - val_loss: 0.0449 - val_categorical_accuracy: 0.9905\n",
            "Epoch 19/60\n",
            "1050/1050 [==============================] - 49s 47ms/step - loss: 0.0310 - categorical_accuracy: 0.9904 - val_loss: 0.0420 - val_categorical_accuracy: 0.9917\n",
            "Epoch 20/60\n",
            "1050/1050 [==============================] - 49s 47ms/step - loss: 0.0301 - categorical_accuracy: 0.9912 - val_loss: 0.0417 - val_categorical_accuracy: 0.9908\n",
            "Epoch 21/60\n",
            "1050/1050 [==============================] - 50s 47ms/step - loss: 0.0257 - categorical_accuracy: 0.9917 - val_loss: 0.0473 - val_categorical_accuracy: 0.9898\n",
            "Epoch 22/60\n",
            "1050/1050 [==============================] - 51s 49ms/step - loss: 0.0275 - categorical_accuracy: 0.9912 - val_loss: 0.0437 - val_categorical_accuracy: 0.9906\n",
            "Epoch 23/60\n",
            "1050/1050 [==============================] - 49s 47ms/step - loss: 0.0259 - categorical_accuracy: 0.9924 - val_loss: 0.0421 - val_categorical_accuracy: 0.9907\n",
            "Epoch 24/60\n",
            "1050/1050 [==============================] - 50s 48ms/step - loss: 0.0265 - categorical_accuracy: 0.9919 - val_loss: 0.0462 - val_categorical_accuracy: 0.9899\n",
            "Epoch 25/60\n",
            "1050/1050 [==============================] - 50s 47ms/step - loss: 0.0228 - categorical_accuracy: 0.9924 - val_loss: 0.0407 - val_categorical_accuracy: 0.9917\n",
            "Epoch 26/60\n",
            "1050/1050 [==============================] - 50s 48ms/step - loss: 0.0228 - categorical_accuracy: 0.9927 - val_loss: 0.0431 - val_categorical_accuracy: 0.9911\n",
            "Epoch 27/60\n",
            "1050/1050 [==============================] - 51s 49ms/step - loss: 0.0227 - categorical_accuracy: 0.9927 - val_loss: 0.0444 - val_categorical_accuracy: 0.9921\n",
            "Epoch 28/60\n",
            "1050/1050 [==============================] - 52s 49ms/step - loss: 0.0204 - categorical_accuracy: 0.9931 - val_loss: 0.0397 - val_categorical_accuracy: 0.9915\n",
            "Epoch 29/60\n",
            "1050/1050 [==============================] - 52s 49ms/step - loss: 0.0189 - categorical_accuracy: 0.9940 - val_loss: 0.0429 - val_categorical_accuracy: 0.9918\n",
            "Epoch 30/60\n",
            "1050/1050 [==============================] - 50s 48ms/step - loss: 0.0211 - categorical_accuracy: 0.9933 - val_loss: 0.0451 - val_categorical_accuracy: 0.9920\n",
            "Epoch 31/60\n",
            "1050/1050 [==============================] - 50s 47ms/step - loss: 0.0203 - categorical_accuracy: 0.9935 - val_loss: 0.0413 - val_categorical_accuracy: 0.9919\n",
            "Epoch 32/60\n",
            "1050/1050 [==============================] - 50s 48ms/step - loss: 0.0196 - categorical_accuracy: 0.9939 - val_loss: 0.0398 - val_categorical_accuracy: 0.9910\n",
            "Epoch 33/60\n",
            "1050/1050 [==============================] - 50s 47ms/step - loss: 0.0194 - categorical_accuracy: 0.9937 - val_loss: 0.0405 - val_categorical_accuracy: 0.9920\n",
            "Epoch 34/60\n",
            "1050/1050 [==============================] - 49s 47ms/step - loss: 0.0181 - categorical_accuracy: 0.9945 - val_loss: 0.0416 - val_categorical_accuracy: 0.9912\n",
            "Epoch 35/60\n",
            "1050/1050 [==============================] - 49s 47ms/step - loss: 0.0168 - categorical_accuracy: 0.9946 - val_loss: 0.0466 - val_categorical_accuracy: 0.9914\n",
            "Epoch 36/60\n",
            "1050/1050 [==============================] - 49s 47ms/step - loss: 0.0177 - categorical_accuracy: 0.9945 - val_loss: 0.0422 - val_categorical_accuracy: 0.9913\n",
            "Epoch 37/60\n",
            "1050/1050 [==============================] - 49s 47ms/step - loss: 0.0153 - categorical_accuracy: 0.9949 - val_loss: 0.0441 - val_categorical_accuracy: 0.9912\n",
            "Epoch 38/60\n",
            "1050/1050 [==============================] - 49s 47ms/step - loss: 0.0158 - categorical_accuracy: 0.9951 - val_loss: 0.0458 - val_categorical_accuracy: 0.9908\n",
            "Epoch 39/60\n",
            "1050/1050 [==============================] - 49s 47ms/step - loss: 0.0167 - categorical_accuracy: 0.9946 - val_loss: 0.0453 - val_categorical_accuracy: 0.9906\n",
            "Epoch 40/60\n",
            "1050/1050 [==============================] - 50s 47ms/step - loss: 0.0152 - categorical_accuracy: 0.9954 - val_loss: 0.0442 - val_categorical_accuracy: 0.9925\n",
            "Epoch 41/60\n",
            "1050/1050 [==============================] - 49s 47ms/step - loss: 0.0174 - categorical_accuracy: 0.9948 - val_loss: 0.0445 - val_categorical_accuracy: 0.9923\n",
            "Epoch 42/60\n",
            "1050/1050 [==============================] - 49s 47ms/step - loss: 0.0159 - categorical_accuracy: 0.9947 - val_loss: 0.0448 - val_categorical_accuracy: 0.9915\n",
            "Epoch 43/60\n",
            "1050/1050 [==============================] - 50s 47ms/step - loss: 0.0142 - categorical_accuracy: 0.9952 - val_loss: 0.0472 - val_categorical_accuracy: 0.9910\n",
            "Epoch 44/60\n",
            "1050/1050 [==============================] - 50s 47ms/step - loss: 0.0141 - categorical_accuracy: 0.9956 - val_loss: 0.0450 - val_categorical_accuracy: 0.9920\n",
            "Epoch 45/60\n",
            "1050/1050 [==============================] - 51s 49ms/step - loss: 0.0170 - categorical_accuracy: 0.9947 - val_loss: 0.0405 - val_categorical_accuracy: 0.9920\n",
            "Epoch 46/60\n",
            "1050/1050 [==============================] - 50s 48ms/step - loss: 0.0152 - categorical_accuracy: 0.9955 - val_loss: 0.0427 - val_categorical_accuracy: 0.9930\n",
            "Epoch 47/60\n",
            "1050/1050 [==============================] - 50s 48ms/step - loss: 0.0131 - categorical_accuracy: 0.9956 - val_loss: 0.0426 - val_categorical_accuracy: 0.9935\n",
            "Epoch 48/60\n",
            "1050/1050 [==============================] - 51s 48ms/step - loss: 0.0151 - categorical_accuracy: 0.9952 - val_loss: 0.0419 - val_categorical_accuracy: 0.9925\n",
            "Epoch 49/60\n",
            "1050/1050 [==============================] - 49s 46ms/step - loss: 0.0139 - categorical_accuracy: 0.9955 - val_loss: 0.0446 - val_categorical_accuracy: 0.9930\n",
            "Epoch 50/60\n",
            "1050/1050 [==============================] - 56s 54ms/step - loss: 0.0142 - categorical_accuracy: 0.9954 - val_loss: 0.0360 - val_categorical_accuracy: 0.9939\n",
            "Epoch 51/60\n",
            "1050/1050 [==============================] - 50s 48ms/step - loss: 0.0108 - categorical_accuracy: 0.9962 - val_loss: 0.0416 - val_categorical_accuracy: 0.9927\n",
            "Epoch 52/60\n",
            "1050/1050 [==============================] - 51s 48ms/step - loss: 0.0101 - categorical_accuracy: 0.9966 - val_loss: 0.0448 - val_categorical_accuracy: 0.9921\n",
            "Epoch 53/60\n",
            "1050/1050 [==============================] - 51s 48ms/step - loss: 0.0110 - categorical_accuracy: 0.9959 - val_loss: 0.0445 - val_categorical_accuracy: 0.9935\n",
            "Epoch 54/60\n",
            "1050/1050 [==============================] - 55s 52ms/step - loss: 0.0126 - categorical_accuracy: 0.9960 - val_loss: 0.0409 - val_categorical_accuracy: 0.9936\n",
            "Epoch 55/60\n",
            "1050/1050 [==============================] - 56s 54ms/step - loss: 0.0121 - categorical_accuracy: 0.9960 - val_loss: 0.0461 - val_categorical_accuracy: 0.9926\n",
            "Epoch 56/60\n",
            "1050/1050 [==============================] - 63s 60ms/step - loss: 0.0107 - categorical_accuracy: 0.9965 - val_loss: 0.0455 - val_categorical_accuracy: 0.9930\n",
            "Epoch 57/60\n",
            "1050/1050 [==============================] - 63s 60ms/step - loss: 0.0119 - categorical_accuracy: 0.9962 - val_loss: 0.0401 - val_categorical_accuracy: 0.9936\n",
            "Epoch 58/60\n",
            "1050/1050 [==============================] - 62s 59ms/step - loss: 0.0096 - categorical_accuracy: 0.9970 - val_loss: 0.0434 - val_categorical_accuracy: 0.9937\n",
            "Epoch 59/60\n",
            "1050/1050 [==============================] - 57s 54ms/step - loss: 0.0129 - categorical_accuracy: 0.9960 - val_loss: 0.0410 - val_categorical_accuracy: 0.9935\n",
            "Epoch 60/60\n",
            "1050/1050 [==============================] - 59s 56ms/step - loss: 0.0107 - categorical_accuracy: 0.9966 - val_loss: 0.0450 - val_categorical_accuracy: 0.9930\n"
          ]
        }
      ]
    },
    {
      "cell_type": "code",
      "source": [
        "predictions = model.predict([data_for_prediction])\n",
        "\n",
        "final = []\n",
        "for p in predictions:\n",
        "    final.append(np.argmax(p))"
      ],
      "metadata": {
        "colab": {
          "base_uri": "https://localhost:8080/"
        },
        "id": "sSH4u6syUKgQ",
        "outputId": "1a0b0899-78a5-4700-ad44-f243b1491c90"
      },
      "execution_count": 9,
      "outputs": [
        {
          "output_type": "stream",
          "name": "stderr",
          "text": [
            "WARNING:tensorflow:Layers in a Sequential model should only have a single input tensor. Received: inputs=(<tf.Tensor 'IteratorGetNext:0' shape=(32, 28, 28, 1) dtype=int64>,). Consider rewriting this model with the Functional API.\n"
          ]
        }
      ]
    },
    {
      "cell_type": "code",
      "source": [
        "!pip install plot_keras_history"
      ],
      "metadata": {
        "colab": {
          "base_uri": "https://localhost:8080/"
        },
        "id": "INSy5GKQhby0",
        "outputId": "97662feb-be02-42ee-937d-db9493514883"
      },
      "execution_count": 10,
      "outputs": [
        {
          "output_type": "stream",
          "name": "stdout",
          "text": [
            "Looking in indexes: https://pypi.org/simple, https://us-python.pkg.dev/colab-wheels/public/simple/\n",
            "Collecting plot_keras_history\n",
            "  Downloading plot_keras_history-1.1.37.tar.gz (11 kB)\n",
            "Requirement already satisfied: matplotlib in /usr/local/lib/python3.7/dist-packages (from plot_keras_history) (3.2.2)\n",
            "Requirement already satisfied: pandas in /usr/local/lib/python3.7/dist-packages (from plot_keras_history) (1.3.5)\n",
            "Requirement already satisfied: scipy in /usr/local/lib/python3.7/dist-packages (from plot_keras_history) (1.7.3)\n",
            "Collecting support_developer>=1.0.2\n",
            "  Downloading support_developer-1.0.4.tar.gz (4.6 kB)\n",
            "Collecting sanitize_ml_labels>=1.0.48\n",
            "  Downloading sanitize_ml_labels-1.0.49.tar.gz (321 kB)\n",
            "\u001b[K     |████████████████████████████████| 321 kB 7.8 MB/s \n",
            "\u001b[?25hCollecting compress_json\n",
            "  Downloading compress_json-1.0.8.tar.gz (4.7 kB)\n",
            "Requirement already satisfied: kiwisolver>=1.0.1 in /usr/local/lib/python3.7/dist-packages (from matplotlib->plot_keras_history) (1.4.4)\n",
            "Requirement already satisfied: cycler>=0.10 in /usr/local/lib/python3.7/dist-packages (from matplotlib->plot_keras_history) (0.11.0)\n",
            "Requirement already satisfied: numpy>=1.11 in /usr/local/lib/python3.7/dist-packages (from matplotlib->plot_keras_history) (1.21.6)\n",
            "Requirement already satisfied: pyparsing!=2.0.4,!=2.1.2,!=2.1.6,>=2.0.1 in /usr/local/lib/python3.7/dist-packages (from matplotlib->plot_keras_history) (3.0.9)\n",
            "Requirement already satisfied: python-dateutil>=2.1 in /usr/local/lib/python3.7/dist-packages (from matplotlib->plot_keras_history) (2.8.2)\n",
            "Requirement already satisfied: typing-extensions in /usr/local/lib/python3.7/dist-packages (from kiwisolver>=1.0.1->matplotlib->plot_keras_history) (4.1.1)\n",
            "Requirement already satisfied: six>=1.5 in /usr/local/lib/python3.7/dist-packages (from python-dateutil>=2.1->matplotlib->plot_keras_history) (1.15.0)\n",
            "Requirement already satisfied: pytz>=2017.3 in /usr/local/lib/python3.7/dist-packages (from pandas->plot_keras_history) (2022.2.1)\n",
            "Building wheels for collected packages: plot-keras-history, sanitize-ml-labels, support-developer, compress-json\n",
            "  Building wheel for plot-keras-history (setup.py) ... \u001b[?25l\u001b[?25hdone\n",
            "  Created wheel for plot-keras-history: filename=plot_keras_history-1.1.37-py3-none-any.whl size=9408 sha256=785cc45af1780c07956af8c223bd81f74621f8763afe68f2010f414fd3b616cf\n",
            "  Stored in directory: /root/.cache/pip/wheels/72/91/3c/9306e573b56b6ea00e7d37c2286d51d1f8f2d7b1b078bf3399\n",
            "  Building wheel for sanitize-ml-labels (setup.py) ... \u001b[?25l\u001b[?25hdone\n",
            "  Created wheel for sanitize-ml-labels: filename=sanitize_ml_labels-1.0.49-py3-none-any.whl size=320403 sha256=5136f3c6e538b2af8ab73a0d9fd8c3d095555b346e96746c283c225788976d7d\n",
            "  Stored in directory: /root/.cache/pip/wheels/f6/0a/7a/c00024468dd987395ee9bd54d293f6cc31f58da13dc2cfc5fc\n",
            "  Building wheel for support-developer (setup.py) ... \u001b[?25l\u001b[?25hdone\n",
            "  Created wheel for support-developer: filename=support_developer-1.0.4-py3-none-any.whl size=5067 sha256=b6d20093a477a44d4a15f9416e79bc550dc13fa69deedebd27735f0f5b089f24\n",
            "  Stored in directory: /root/.cache/pip/wheels/e7/9d/c8/1209cb780a301c5181e3da11b8b4e161d30d034c6370b995ce\n",
            "  Building wheel for compress-json (setup.py) ... \u001b[?25l\u001b[?25hdone\n",
            "  Created wheel for compress-json: filename=compress_json-1.0.8-py3-none-any.whl size=4730 sha256=d8f18c4ca2b43c5a6720c5fae02378b715cb1ad1dd261f03d7ac557c4a01ba9d\n",
            "  Stored in directory: /root/.cache/pip/wheels/93/9f/a4/13810037c24ad31f1f42fe769d4cbe6665d8d081c322b3483b\n",
            "Successfully built plot-keras-history sanitize-ml-labels support-developer compress-json\n",
            "Installing collected packages: support-developer, compress-json, sanitize-ml-labels, plot-keras-history\n",
            "Successfully installed compress-json-1.0.8 plot-keras-history-1.1.37 sanitize-ml-labels-1.0.49 support-developer-1.0.4\n"
          ]
        }
      ]
    },
    {
      "cell_type": "code",
      "source": [
        "from plot_keras_history import show_history, plot_history\n",
        "import matplotlib.pyplot as plt\n",
        "\n",
        "\n",
        "show_history(history)\n",
        "plot_history(history, path=\"standard.png\")\n",
        "plt.close()"
      ],
      "metadata": {
        "colab": {
          "base_uri": "https://localhost:8080/",
          "height": 385
        },
        "id": "k-my_tzlhc6a",
        "outputId": "48818a14-d95d-46a6-abb0-acfcfcd9908a"
      },
      "execution_count": 11,
      "outputs": [
        {
          "output_type": "display_data",
          "data": {
            "text/plain": [
              "<Figure size 720x360 with 2 Axes>"
            ],
            "image/png": "[encoded data removed]"
          },
          "metadata": {
            "needs_background": "light"
          }
        }
      ]
    },
    {
      "cell_type": "code",
      "source": [
        "from sklearn.metrics import confusion_matrix\n",
        "import seaborn as sns\n",
        "fig = plt.figure(figsize=(10, 10)) # Set Figure\n",
        "\n",
        "y_pred = model.predict(x_test) # Predict class probabilities as 2 => [0.1, 0, 0.9, 0, 0, 0, 0, 0, 0, 0]\n",
        "\n",
        "Y_pred = np.argmax(y_pred, 1) # Decode Predicted labels\n",
        "Y_test = np.argmax(y_test, 1) # Decode labels\n",
        "\n",
        "mat = confusion_matrix(Y_test, Y_pred) # Confusion matrix\n",
        "\n",
        "# Plot Confusion matrix\n",
        "sns.heatmap(mat.T, square=True, annot=True, cbar=False, cmap=plt.cm.Blues, fmt='.0f')\n",
        "plt.xlabel('Predicted Values')\n",
        "plt.ylabel('True Values');\n",
        "plt.show();"
      ],
      "metadata": {
        "colab": {
          "base_uri": "https://localhost:8080/",
          "height": 606
        },
        "id": "wg2D3LrVHHYW",
        "outputId": "ff9f9522-e76a-4135-c023-1f11471d91fe"
      },
      "execution_count": 15,
      "outputs": [
        {
          "output_type": "display_data",
          "data": {
            "text/plain": [
              "<Figure size 720x720 with 1 Axes>"
            ],
            "image/png": "[encoded data removed]"
          },
          "metadata": {
            "needs_background": "light"
          }
        }
      ]
    },
    {
      "cell_type": "code",
      "source": [
        "y_pred = model.predict(x_test)\n",
        "x_test__ = tf.reshape(x_test,[x_test.shape[0], 28, 28])\n",
        "\n",
        "fig, axis = plt.subplots(4, 4, figsize=(12, 14))\n",
        "for i, ax in enumerate(axis.flat):\n",
        "    ax.imshow(x_test__[i], cmap='binary')\n",
        "    ax.set(title = f\"Real Number is {y_test[i].argmax()}\\nPredict Number is {y_pred[i].argmax()}\");"
      ],
      "metadata": {
        "colab": {
          "base_uri": "https://localhost:8080/",
          "height": 820
        },
        "id": "vXf0dX3NHORL",
        "outputId": "ba6e4fb2-412a-4e77-dda6-b3e372fd23f2"
      },
      "execution_count": 18,
      "outputs": [
        {
          "output_type": "display_data",
          "data": {
            "text/plain": [
              "<Figure size 864x1008 with 16 Axes>"
            ],
            "image/png": "[encoded data removed]"
          },
          "metadata": {
            "needs_background": "light"
          }
        }
      ]
    }
  ]
}